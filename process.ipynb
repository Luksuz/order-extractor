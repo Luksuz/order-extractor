{
 "cells": [
  {
   "cell_type": "code",
   "execution_count": 4,
   "metadata": {},
   "outputs": [
    {
     "name": "stdout",
     "output_type": "stream",
     "text": [
      "Found 3 XLSX file(s):\n",
      "- Customer.xlsx\n",
      "Successfully converted csvs/Customer.xlsx to csvs/Customer.csv\n",
      "Shape: 4432 rows, 7 columns\n",
      "\n",
      "- RX CODE.xlsx\n",
      "Successfully converted csvs/RX CODE.xlsx to csvs/RX CODE.csv\n",
      "Shape: 619 rows, 2 columns\n",
      "\n",
      "- STOCK CODE .xlsx\n",
      "Successfully converted csvs/STOCK CODE .xlsx to csvs/STOCK CODE .csv\n",
      "Shape: 80 rows, 2 columns\n",
      "\n"
     ]
    }
   ],
   "source": [
    "import pandas as pd\n",
    "import os\n",
    "\n",
    "def xlsx_to_csv(xlsx_file_path, csv_file_path=None, sheet_name=0):\n",
    "    \"\"\"\n",
    "    Convert XLSX file to CSV format\n",
    "    \n",
    "    Parameters:\n",
    "    xlsx_file_path (str): Path to the input XLSX file\n",
    "    csv_file_path (str): Path for the output CSV file (optional)\n",
    "    sheet_name (str/int): Sheet name or index to convert (default: 0 - first sheet)\n",
    "    \n",
    "    Returns:\n",
    "    str: Path to the created CSV file\n",
    "    \"\"\"\n",
    "    try:\n",
    "        # Read the XLSX file\n",
    "        df = pd.read_excel(xlsx_file_path, sheet_name=sheet_name)\n",
    "        \n",
    "        # Generate CSV file path if not provided\n",
    "        if csv_file_path is None:\n",
    "            base_name = os.path.splitext(xlsx_file_path)[0]\n",
    "            csv_file_path = f\"{base_name}.csv\"\n",
    "        \n",
    "        # Convert to CSV\n",
    "        df.to_csv(csv_file_path, index=False)\n",
    "        \n",
    "        print(f\"Successfully converted {xlsx_file_path} to {csv_file_path}\")\n",
    "        print(f\"Shape: {df.shape[0]} rows, {df.shape[1]} columns\")\n",
    "        \n",
    "        return csv_file_path\n",
    "        \n",
    "    except FileNotFoundError:\n",
    "        print(f\"Error: File '{xlsx_file_path}' not found.\")\n",
    "    except Exception as e:\n",
    "        print(f\"Error converting file: {str(e)}\")\n",
    "        return None\n",
    "\n",
    "def convert_all_xlsx_in_directory(directory_path='.'):\n",
    "    \"\"\"\n",
    "    Convert all XLSX files in a directory to CSV\n",
    "    \n",
    "    Parameters:\n",
    "    directory_path (str): Path to the directory containing XLSX files\n",
    "    \"\"\"\n",
    "    xlsx_files = [f for f in os.listdir(directory_path) if f.endswith('.xlsx')]\n",
    "    \n",
    "    if not xlsx_files:\n",
    "        print(\"No XLSX files found in the directory.\")\n",
    "        return\n",
    "    \n",
    "    print(f\"Found {len(xlsx_files)} XLSX file(s):\")\n",
    "    for file in xlsx_files:\n",
    "        print(f\"- {file}\")\n",
    "        file_path = os.path.join(directory_path, file)\n",
    "        xlsx_to_csv(file_path)\n",
    "        print()\n",
    "\n",
    "if __name__ == \"__main__\":\n",
    "    # Example usage:\n",
    "    \n",
    "    # Convert a specific file\n",
    "    # xlsx_to_csv('input_file.xlsx', 'output_file.csv')\n",
    "    \n",
    "    # Convert all XLSX files in current directory\n",
    "    convert_all_xlsx_in_directory(\"csvs\") "
   ]
  },
  {
   "cell_type": "code",
   "execution_count": null,
   "metadata": {},
   "outputs": [],
   "source": []
  }
 ],
 "metadata": {
  "kernelspec": {
   "display_name": "Python 3",
   "language": "python",
   "name": "python3"
  },
  "language_info": {
   "codemirror_mode": {
    "name": "ipython",
    "version": 3
   },
   "file_extension": ".py",
   "mimetype": "text/x-python",
   "name": "python",
   "nbconvert_exporter": "python",
   "pygments_lexer": "ipython3",
   "version": "3.10.14"
  }
 },
 "nbformat": 4,
 "nbformat_minor": 2
}
